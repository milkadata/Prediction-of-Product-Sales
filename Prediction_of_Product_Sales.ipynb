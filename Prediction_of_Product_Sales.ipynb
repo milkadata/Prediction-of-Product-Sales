{
  "nbformat": 4,
  "nbformat_minor": 0,
  "metadata": {
    "colab": {
      "provenance": [],
      "authorship_tag": "ABX9TyM0dW9BK+rmfmOjiT+xlIhG",
      "include_colab_link": true
    },
    "kernelspec": {
      "name": "python3",
      "display_name": "Python 3"
    },
    "language_info": {
      "name": "python"
    }
  },
  "cells": [
    {
      "cell_type": "markdown",
      "metadata": {
        "id": "view-in-github",
        "colab_type": "text"
      },
      "source": [
        "<a href=\"https://colab.research.google.com/github/milkadata/Prediction-of-Product-Sales/blob/main/Prediction_of_Product_Sales.ipynb\" target=\"_parent\"><img src=\"https://colab.research.google.com/assets/colab-badge.svg\" alt=\"Open In Colab\"/></a>"
      ]
    },
    {
      "cell_type": "markdown",
      "source": [
        "# Prediction-of-Product-Sales\n",
        "*Milka Santana*"
      ],
      "metadata": {
        "id": "REnZZlIhX-II"
      }
    },
    {
      "cell_type": "markdown",
      "source": [
        "## Project Overview"
      ],
      "metadata": {
        "id": "aNTaHCMgfhOv"
      }
    },
    {
      "cell_type": "code",
      "source": [],
      "metadata": {
        "id": "5b6bWb3Xfhf8"
      },
      "execution_count": null,
      "outputs": []
    },
    {
      "cell_type": "markdown",
      "source": [
        "## Load and Inspect Data"
      ],
      "metadata": {
        "id": "qGAdo8r_fhqc"
      }
    },
    {
      "cell_type": "code",
      "source": [],
      "metadata": {
        "id": "olNpuxOifjq4"
      },
      "execution_count": null,
      "outputs": []
    },
    {
      "cell_type": "markdown",
      "source": [
        "## Clean Data"
      ],
      "metadata": {
        "id": "IDhPpiKofkEZ"
      }
    },
    {
      "cell_type": "code",
      "source": [],
      "metadata": {
        "id": "_OkSNoeIfkcq"
      },
      "execution_count": null,
      "outputs": []
    },
    {
      "cell_type": "markdown",
      "source": [
        "## Exploratory Data Analysis"
      ],
      "metadata": {
        "id": "rLEI5hlnfks-"
      }
    },
    {
      "cell_type": "code",
      "source": [],
      "metadata": {
        "id": "l5h378QWfk_0"
      },
      "execution_count": null,
      "outputs": []
    },
    {
      "cell_type": "markdown",
      "source": [
        "## Explanatory Data Analysis"
      ],
      "metadata": {
        "id": "qFbGJPVKfzjN"
      }
    },
    {
      "cell_type": "code",
      "source": [],
      "metadata": {
        "id": "-qz9Ox9Mf2F6"
      },
      "execution_count": null,
      "outputs": []
    }
  ]
}